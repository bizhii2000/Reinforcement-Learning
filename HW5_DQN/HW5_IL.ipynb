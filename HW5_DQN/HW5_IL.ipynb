{
  "nbformat": 4,
  "nbformat_minor": 0,
  "metadata": {
    "colab": {
      "provenance": [],
      "collapsed_sections": [
        "o8OWw-P7WPuJ",
        "3qaJJ1dnIyUd",
        "cG55IM8CzfyN",
        "HSPK1oROJIu2",
        "XmxZpcSJNl7b",
        "ViYY0FBTNwML",
        "ccYu4cKiYD3y",
        "FF6qmXCnYJeb"
      ]
    },
    "kernelspec": {
      "name": "python3",
      "display_name": "Python 3"
    },
    "language_info": {
      "name": "python"
    },
    "accelerator": "GPU",
    "gpuClass": "standard"
  },
  "cells": [
    {
      "cell_type": "code",
      "execution_count": null,
      "metadata": {
        "id": "FfJVqCp0dyKC"
      },
      "outputs": [],
      "source": [
        "! pip install gym\n",
        "! pip install highway-env"
      ]
    },
    {
      "cell_type": "code",
      "source": [
        "import gym\n",
        "import highway_env\n",
        "import matplotlib.pyplot as plt\n",
        "import numpy as np\n",
        "from IPython.display import clear_output\n",
        "import random\n",
        "import os\n",
        "import torch\n",
        "import torch.nn.functional as F\n",
        "import torchvision.transforms as T\n",
        "import torch.optim as optim\n",
        "import pygame\n",
        "import imageio\n",
        "from IPython.display import HTML\n",
        "from matplotlib import animation\n",
        "import pandas as pd\n",
        "from scipy.stats import norm , t\n",
        "from scipy.stats import ttest_ind\n",
        "device = torch.device('cuda' if torch.cuda.is_available() else 'cpu')\n",
        "import warnings\n",
        "warnings.filterwarnings('ignore')"
      ],
      "metadata": {
        "id": "knjWxM4lTSIg"
      },
      "execution_count": 58,
      "outputs": []
    },
    {
      "cell_type": "code",
      "source": [
        "plt.style.use('default')\n",
        "os.environ[\"SDL_VIDEODRIVER\"] = \"dummy\"\n",
        "env = gym.make('highway-v0', render_mode='rgb_array')\n",
        "env.reset()\n",
        "env.render()\n",
        "os.environ['SDL_VIDEODRIVER'] = \"x11\"\n",
        "env = gym.make('highway-v0', render_mode='rgb_array')\n",
        "env.reset()\n",
        "plt.imshow(env.render());\n",
        "plt.style.use('ggplot')"
      ],
      "metadata": {
        "id": "Gx_v0EX3d7hw",
        "colab": {
          "base_uri": "https://localhost:8080/",
          "height": 189
        },
        "outputId": "a62660f8-2a5d-47dc-d542-fd17358ef567"
      },
      "execution_count": 59,
      "outputs": [
        {
          "output_type": "display_data",
          "data": {
            "text/plain": [
              "<Figure size 640x480 with 1 Axes>"
            ],
            "image/png": "[encoded data removed]"
          },
          "metadata": {}
        }
      ]
    },
    {
      "cell_type": "code",
      "source": [
        "env = gym.make('highway-v0', render_mode='rgb_array')\n",
        "print('State shape: ', env.observation_space.shape)\n",
        "print('\\nNumber of actions: ', env.action_space.n)\n",
        "print('\\nState sample: \\n', env.observation_space.sample())"
      ],
      "metadata": {
        "colab": {
          "base_uri": "https://localhost:8080/"
        },
        "id": "vy8GAtvwiKUU",
        "outputId": "e76a2498-2077-4a1d-c12d-7026c621a0f3"
      },
      "execution_count": 60,
      "outputs": [
        {
          "output_type": "stream",
          "name": "stdout",
          "text": [
            "State shape:  (5, 5)\n",
            "\n",
            "Number of actions:  5\n",
            "\n",
            "State sample: \n",
            " [[ 0.45717335 -1.1673336   1.2713618   1.4612398   0.7726104 ]\n",
            " [ 0.09054755 -1.2794892  -1.3973104   0.97921383  1.1062616 ]\n",
            " [ 0.30328044  2.7626212  -2.470957   -0.31356987  0.66942316]\n",
            " [-0.20971993 -0.6863307   0.17060937  0.07022897 -0.85439813]\n",
            " [ 0.05261944 -0.08044812 -0.0401025   0.20522411 -1.1564974 ]]\n"
          ]
        }
      ]
    },
    {
      "cell_type": "code",
      "source": [
        "#@title Hyperparameters\n"
      ],
      "metadata": {
        "cellView": "form",
        "id": "07UXHh79nl7Z"
      },
      "execution_count": 5,
      "outputs": []
    },
    {
      "cell_type": "code",
      "source": [
        "#@title Saving the renders as gifs\n",
        "\n",
        "def save_frames_as_gif(frames, path='./', filename='gym_animation.gif'):\n",
        "    imageio.mimwrite(os.path.join(path, filename), frames, fps=15)\n"
      ],
      "metadata": {
        "id": "SmG2TIswciW7",
        "cellView": "form"
      },
      "execution_count": 6,
      "outputs": []
    },
    {
      "cell_type": "markdown",
      "source": [
        "## Agent"
      ],
      "metadata": {
        "id": "o8OWw-P7WPuJ"
      }
    },
    {
      "cell_type": "code",
      "source": [
        "#@title Network\n",
        "import torch \n",
        "import torch.nn as nn\n",
        "import torch.nn.functional as F\n",
        "\n",
        "class DeepNetwork(nn.Module):\n",
        "    def __init__(self, state_size, action_size,seed):\n",
        "        super(DeepNetwork, self).__init__()\n",
        "        self.seed = torch.manual_seed(seed)\n",
        "        self.fc1 = nn.Linear(state_size, 128)\n",
        "        self.fc2 = nn.Linear(128, 128)\n",
        "        self.fc3 = nn.Linear(128, 128)\n",
        "        self.fc4 = nn.Linear(128, action_size)\n",
        "        \n",
        "    def forward(self, state):\n",
        "        x = self.fc1(state)\n",
        "        x = F.relu(x)\n",
        "        x = self.fc2(x)\n",
        "        x = F.relu(x)\n",
        "        x = self.fc3(x)\n",
        "        x = F.relu(x)\n",
        "        return self.fc4(x)\n",
        "\n",
        "class CNN(nn.Module):\n",
        "    def __init__(self, state_size, action_size,seed):\n",
        "        super(CNN, self).__init__()\n",
        "        self.seed = torch.manual_seed(seed)\n",
        "        self.conv1 = nn.Conv2d(3,128,kernel_size = 3)\n",
        "        self.conv2 = nn.Conv2d(128, 128, kernel_size=3)\n",
        "        self.flatten = nn.Flatten()\n",
        "        self.fc1 = nn.Linear(128*128, 128)\n",
        "        self.fc2 = nn.Linear(128, 128)\n",
        "        self.fc3 = nn.Linear(128, 128)\n",
        "        self.fc4 = nn.Linear(128, action_size)\n",
        "        \n",
        "    def forward(self, state):\n",
        "        x = self.conv1(state)\n",
        "        x = F.relu(x)\n",
        "        x = self.conv2\n",
        "        x = F.relu(x)\n",
        "        x = self.flatten(x)\n",
        "        x = self.fc1(x)\n",
        "        x = F.relu(x)\n",
        "        x = self.fc2(x)\n",
        "        x = F.relu(x)\n",
        "        x = self.fc3(x)\n",
        "        x = F.relu(x)\n",
        "        return self.fc4(x)\n"
      ],
      "metadata": {
        "id": "Wp2lN29mWtHL",
        "cellView": "form"
      },
      "execution_count": 54,
      "outputs": []
    },
    {
      "cell_type": "code",
      "source": [
        "#@title Buffer\n",
        "import numpy as np\n",
        "import random\n",
        "import torch\n",
        "from collections import deque, namedtuple\n",
        "class ReplayBuffer:\n",
        "    def __init__(self, action_size, buffer_size, batch_size):\n",
        "        self.action_size = action_size\n",
        "        self.memory = deque(maxlen=buffer_size)  \n",
        "        self.batch_size = batch_size\n",
        "        self.experience = namedtuple(\"Experience\", field_names=[\"state\", \"action\", \"reward\", \"next_state\", \"done\"])\n",
        "    \n",
        "    def add(self, state, action, reward, next_state, done):\n",
        "        e = self.experience(state, action, reward, next_state, done)\n",
        "        self.memory.append(e)\n",
        "    \n",
        "    def sample(self):\n",
        "        experiences = random.sample(self.memory, k=self.batch_size)\n",
        "        states = torch.from_numpy(np.vstack([e.state for e in experiences if e is not None])).float().to(device)\n",
        "        actions = torch.from_numpy(np.vstack([e.action for e in experiences if e is not None])).long().to(device)\n",
        "        rewards = torch.from_numpy(np.vstack([e.reward for e in experiences if e is not None])).float().to(device)\n",
        "        next_states = torch.from_numpy(np.vstack([e.next_state for e in experiences if e is not None])).float().to(device)\n",
        "        dones = torch.from_numpy(np.vstack([e.done for e in experiences if e is not None]).astype(np.uint8)).float().to(device)\n",
        "        return (states, actions, rewards, next_states, dones)\n",
        "\n",
        "    def __len__(self):\n",
        "        return len(self.memory)"
      ],
      "metadata": {
        "id": "7egeVwrFhJ-S",
        "cellView": "form"
      },
      "execution_count": 8,
      "outputs": []
    },
    {
      "cell_type": "code",
      "source": [
        "#@title DQN_agent\n",
        "import random\n",
        "import torch\n",
        "import torch.nn.functional as F\n",
        "import torch.optim as optim\n",
        "import numpy as np\n",
        "from collections import deque, namedtuple\n",
        "device = torch.device('cuda' if torch.cuda.is_available() else 'cpu')\n",
        "\n",
        "class Agent():\n",
        "    def __init__(self, state_size, action_size, seed, buffer_size = 1e5):\n",
        "        self.batch_size = 64\n",
        "        self.gamma = 0.99\n",
        "        self.tau = 1e-3\n",
        "        self.update_freq = 4     \n",
        "        self.alpha = 5e-4        \n",
        "        self.buffer_size = int(buffer_size)\n",
        "        self.seed = random.seed(seed)\n",
        "        self.state_size = state_size\n",
        "        self.action_size = action_size\n",
        "\n",
        "        self.qnetwork_local = DeepNetwork(state_size, action_size,seed).to(device)\n",
        "        self.qnetwork_target = DeepNetwork(state_size, action_size,seed).to(device)\n",
        "        self.optimizer = optim.Adam(self.qnetwork_local.parameters(), lr = self.alpha)\n",
        "\n",
        "        self.memory = ReplayBuffer(action_size, self.buffer_size, self.batch_size)\n",
        "        self.t_step = 0\n",
        "    \n",
        "    def step(self, state, action, reward, next_state, done):\n",
        "        self.memory.add(state, action, reward, next_state, done)\n",
        "        self.t_step = (self.t_step + 1) % self.update_freq\n",
        "\n",
        "        if self.t_step == 0:\n",
        "            if len(self.memory) > self.batch_size:\n",
        "                experiences = self.memory.sample()\n",
        "                self.learn(experiences, self.gamma)\n",
        "\n",
        "    def act(self, state, eps=0.):\n",
        "        state = torch.from_numpy(state).float().unsqueeze(0).to(device)\n",
        "        self.qnetwork_local.eval()\n",
        "        with torch.no_grad():\n",
        "            action_values = self.qnetwork_local(state)\n",
        "        self.qnetwork_local.train()\n",
        "        if random.random() > eps:\n",
        "          if(np.argmax(action_values.cpu().data.numpy()) > 4):\n",
        "            return random.choice(np.arange(self.action_size))\n",
        "          else:\n",
        "            return np.argmax(action_values.cpu().data.numpy())\n",
        "        else:\n",
        "            return random.choice(np.arange(self.action_size))\n",
        "\n",
        "    def act_with_updated_values(self,state):\n",
        "        state = torch.from_numpy(state).float().unsqueeze(0).to(device)\n",
        "        action_values = self.qnetwork_local(state)\n",
        "        if(np.argmax(action_values.cpu().data.numpy()) > 4):\n",
        "            return random.choice(np.arange(self.action_size))\n",
        "        else:\n",
        "            return np.argmax(action_values.cpu().data.numpy())\n",
        "\n",
        "    def learn(self, experiences, gamma):\n",
        "        states, actions, rewards, next_states, dones = experiences\n",
        "        q_targets_next = self.qnetwork_target(next_states).detach().max(1)[0].unsqueeze(1)\n",
        "        q_targets = rewards + gamma * q_targets_next * (1 - dones)\n",
        "        q_expected = self.qnetwork_local(states).gather(1, actions)\n",
        "\n",
        "        loss = F.mse_loss(q_expected, q_targets)\n",
        "        # loss = nn.MSELoss()(q_expected,q_targets.view(1, -1))\n",
        "        self.optimizer.zero_grad()\n",
        "        loss.backward()\n",
        "        self.optimizer.step()\n",
        "\n",
        "        self.soft_update(self.qnetwork_local, self.qnetwork_target, self.tau )                     \n",
        "\n",
        "    def soft_update(self, local_model, target_model, tau):\n",
        "        for target_param, local_param in zip(target_model.parameters(), local_model.parameters()):\n",
        "            target_param.data.copy_(tau*local_param.data + (1.0-tau)*target_param.data)\n",
        "\n"
      ],
      "metadata": {
        "id": "6_4e3KglYjSz",
        "cellView": "form"
      },
      "execution_count": 9,
      "outputs": []
    },
    {
      "cell_type": "code",
      "source": [
        "#@title DQCNN_agent\n",
        "import random\n",
        "import torch\n",
        "import torch.nn.functional as F\n",
        "import torch.optim as optim\n",
        "import numpy as np\n",
        "from collections import deque, namedtuple\n",
        "device = torch.device('cuda' if torch.cuda.is_available() else 'cpu')\n",
        "\n",
        "class Agent_CNN():\n",
        "    def __init__(self, state_size, action_size, seed, buffer_size = 1e5):\n",
        "        self.batch_size = 64\n",
        "        self.gamma = 0.99\n",
        "        self.tau = 1e-3\n",
        "        self.update_freq = 4     \n",
        "        self.alpha = 5e-4        \n",
        "        self.buffer_size = int(buffer_size)\n",
        "        self.seed = random.seed(seed)\n",
        "        self.state_size = state_size\n",
        "        self.action_size = action_size\n",
        "\n",
        "        self.qnetwork_local = CNN(state_size, action_size,seed).to(device)\n",
        "        self.qnetwork_target = CNN(state_size, action_size,seed).to(device)\n",
        "        self.optimizer = optim.Adam(self.qnetwork_local.parameters(), lr = self.alpha)\n",
        "\n",
        "        self.memory = ReplayBuffer(action_size, self.buffer_size, self.batch_size)\n",
        "        self.t_step = 0\n",
        "    \n",
        "    def step(self, state, action, reward, next_state, done):\n",
        "        self.memory.add(state, action, reward, next_state, done)\n",
        "        self.t_step = (self.t_step + 1) % self.update_freq\n",
        "\n",
        "        if self.t_step == 0:\n",
        "            if len(self.memory) > self.batch_size:\n",
        "                experiences = self.memory.sample()\n",
        "                self.learn(experiences, self.gamma)\n",
        "\n",
        "    def act(self, state, eps=0.):\n",
        "        state = torch.from_numpy(state).float().unsqueeze(0).to(device)\n",
        "        self.qnetwork_local.eval()\n",
        "        with torch.no_grad():\n",
        "            action_values = self.qnetwork_local(state)\n",
        "        self.qnetwork_local.train()\n",
        "        if random.random() > eps:\n",
        "          if(np.argmax(action_values.cpu().data.numpy()) > 4):\n",
        "            return random.choice(np.arange(self.action_size))\n",
        "          else:\n",
        "            return np.argmax(action_values.cpu().data.numpy())\n",
        "        else:\n",
        "            return random.choice(np.arange(self.action_size))\n",
        "\n",
        "    def act_with_updated_values(self,state):\n",
        "        state = torch.from_numpy(state).float().unsqueeze(0).to(device)\n",
        "        action_values = self.qnetwork_local(state)\n",
        "        if(np.argmax(action_values.cpu().data.numpy()) > 4):\n",
        "            return random.choice(np.arange(self.action_size))\n",
        "        else:\n",
        "            return np.argmax(action_values.cpu().data.numpy())\n",
        "\n",
        "    def learn(self, experiences, gamma):\n",
        "        states, actions, rewards, next_states, dones = experiences\n",
        "        q_targets_next = self.qnetwork_target(next_states).detach().max(1)[0].unsqueeze(1)\n",
        "        q_targets = rewards + gamma * q_targets_next * (1 - dones)\n",
        "        q_expected = self.qnetwork_local(states).gather(1, actions)\n",
        "\n",
        "        loss = F.mse_loss(q_expected, q_targets)\n",
        "        # loss = nn.MSELoss()(q_expected,q_targets.view(1, -1))\n",
        "        self.optimizer.zero_grad()\n",
        "        loss.backward()\n",
        "        self.optimizer.step()\n",
        "\n",
        "        self.soft_update(self.qnetwork_local, self.qnetwork_target, self.tau )                     \n",
        "\n",
        "    def soft_update(self, local_model, target_model, tau):\n",
        "        for target_param, local_param in zip(target_model.parameters(), local_model.parameters()):\n",
        "            target_param.data.copy_(tau*local_param.data + (1.0-tau)*target_param.data)"
      ],
      "metadata": {
        "cellView": "form",
        "id": "2ySkX0dEecV4"
      },
      "execution_count": 31,
      "outputs": []
    },
    {
      "cell_type": "code",
      "source": [
        "#@title Agent_Trainer\n",
        "\n",
        "class Train_Agent():\n",
        "  def __init__(self,env,agent,Episodes,Repeats,Epsilon_policy):\n",
        "    self.env = env\n",
        "    self.agent = agent\n",
        "    self.Episodes = Episodes\n",
        "    self.Repeats = Repeats\n",
        "    self.agent_scores = []\n",
        "    self.frames = []\n",
        "    self.max_t = 1000000\n",
        "\n",
        "  def train(self):\n",
        "    eps_start = 1.0\n",
        "    eps_end = 0.001\n",
        "    eps_decay = 0.995\n",
        "\n",
        "    for r in range(1,self.Repeats+1):\n",
        "      scores = []\n",
        "      ts = []\n",
        "      eps = eps_start\n",
        "      for i_episode in range(1, self.Episodes+1):\n",
        "          state , info = self.env.reset()\n",
        "          score = 0\n",
        "          for t in range(self.max_t):\n",
        "              action = self.agent.act(state.ravel(), eps)\n",
        "              next_state, reward, done, truncated, info = self.env.step(action)\n",
        "              self.agent.step(state.ravel(), action, reward, next_state.ravel(), done)\n",
        "              state = next_state\n",
        "              score += reward\n",
        "              if done or truncated:\n",
        "                  break\n",
        "          scores.append(score)\n",
        "          ts.append(t)\n",
        "          eps = max(eps_end, eps_decay*eps)\n",
        "\n",
        "          print('\\rEpisode {}\\tAverage Score: {:.1f}\\tnumber of steps = {}'.format(i_episode,np.mean(scores),t), end=\"\")\n",
        "\n",
        "          if i_episode % self.Episodes == 0:\n",
        "                    torch.save(self.agent.qnetwork_local.state_dict(), './local_weights')\n",
        "                    torch.save(self.agent.qnetwork_target.state_dict(), './target_weights')\n",
        "\n",
        "      self.agent_scores.append(scores)\n",
        "    return self.agent_scores,ts\n",
        "\n",
        "  def Evaluate_current_Network(self,test_episodes):\n",
        "    scores = []\n",
        "    for i_episode in range(1, test_episodes+1):\n",
        "        state,info = self.env.reset()\n",
        "        score = 0\n",
        "        for t in range(self.max_t):\n",
        "            action = self.agent.act_with_updated_values(state.flatten())\n",
        "            next_state, reward, done, truncated, info = self.env.step(action)\n",
        "            frame = env.render()\n",
        "            self.frames.append(frame)\n",
        "            state = next_state\n",
        "            score += reward\n",
        "            if done or truncated:\n",
        "                break\n",
        "        scores.append(score)\n",
        "    return self.frames\n"
      ],
      "metadata": {
        "cellView": "form",
        "id": "1dELZpGigDRd"
      },
      "execution_count": 10,
      "outputs": []
    },
    {
      "cell_type": "code",
      "source": [
        "#@title Transfer Learning Agent Trainer\n",
        "\n",
        "class Train_Transfer_Learning_Agent():\n",
        "  def __init__(self,env,agent,Episodes,Repeats,Epsilon_policy,weights_path1,weights_path2):\n",
        "    self.env = env\n",
        "    self.agent = agent\n",
        "    self.Episodes = Episodes\n",
        "    self.Repeats = Repeats\n",
        "    self.weights_path1 = weights_path1\n",
        "    self.weights_path2 = weights_path2\n",
        "    self.agent_scores = []\n",
        "    self.frames = []\n",
        "    self.max_t = 1000000\n",
        "\n",
        "  def train(self):\n",
        "    eps_start = 1.0\n",
        "    eps_end = 0.001\n",
        "    eps_decay = 0.995\n",
        "\n",
        "    self.agent.qnetwork_local.load_state_dict(torch.load(self.weights_path1))\n",
        "    self.agent.qnetwork_target.load_state_dict(torch.load(self.weights_path2))\n",
        "\n",
        "    for r in range(1,self.Repeats+1):\n",
        "      scores = []\n",
        "      ts = []\n",
        "      eps = eps_start\n",
        "      for i_episode in range(1, self.Episodes+1):\n",
        "          state , info = self.env.reset()\n",
        "          score = 0\n",
        "          for t in range(self.max_t):\n",
        "              action = self.agent.act(state.ravel(), eps)\n",
        "              next_state, reward, done, truncated, info = self.env.step(action)\n",
        "              self.agent.step(state.ravel(), action, reward, next_state.ravel(), done)\n",
        "              state = next_state\n",
        "              score += reward\n",
        "              if done or truncated:\n",
        "                  break\n",
        "          scores.append(score)\n",
        "          ts.append(t)\n",
        "          eps = max(eps_end, eps_decay*eps)\n",
        "\n",
        "          print('\\rEpisode {}\\tAverage Score: {:.1f}\\tnumber of steps = {}'.format(i_episode,np.mean(scores),t), end=\"\")\n",
        "\n",
        "\n",
        "      self.agent_scores.append(scores)\n",
        "    return self.agent_scores,ts\n",
        "\n",
        "  def Evaluate_current_Network(self,test_episodes):\n",
        "    scores = []\n",
        "    for i_episode in range(1, test_episodes+1):\n",
        "        state,info = self.env.reset()\n",
        "        score = 0\n",
        "        for t in range(self.max_t):\n",
        "            action = self.agent.act_with_updated_values(state.flatten())\n",
        "            next_state, reward, done, truncated, info = self.env.step(action)\n",
        "            frame = env.render()\n",
        "            self.frames.append(frame)\n",
        "            state = next_state\n",
        "            score += reward\n",
        "            if done or truncated:\n",
        "                break\n",
        "        scores.append(score)\n",
        "    return self.frames"
      ],
      "metadata": {
        "cellView": "form",
        "id": "fhLOLgqt4FYb"
      },
      "execution_count": 11,
      "outputs": []
    },
    {
      "cell_type": "code",
      "source": [
        "#@title Plot results\n",
        "\n",
        "def plot_results(agent_scores,window_size,figure,ax,label):\n",
        "\n",
        "  n_rep, n_episode = np.array(agent_scores).shape\n",
        "  smoothed_agent_scores = []\n",
        "  for i in range(n_rep):\n",
        "    smoothed_agent_scores.append(pd.Series(agent_scores[i]).rolling(window_size , min_periods = 0).mean())\n",
        "\n",
        "  x_bar = np.mean(np.array(smoothed_agent_scores), axis=0) \n",
        "  sigma = np.std(np.array(smoothed_agent_scores), axis=0) \n",
        "  SE = sigma / np.sqrt(n_rep)\n",
        "  interval =  1 - 0.3\n",
        "  if n_rep < 30:\n",
        "      t_statistic = t.interval(interval, df = n_rep - 1)[1]\n",
        "      ME = t_statistic * SE\n",
        "  else:\n",
        "      z_statistic = norm.interval(interval)[1]\n",
        "      ME = z_statistic * SE        \n",
        "\n",
        "  ax.plot(range(0,n_episode), x_bar , label = label)\n",
        "  if n_rep >= 2:\n",
        "      ax.fill_between(range(0,n_episode), (x_bar - ME), (x_bar + ME), alpha=0.05)\n",
        "  ax.set_xlabel(\"Episodes\", fontsize=13)\n",
        "  ax.set_ylabel(\"Average reward\", fontsize=13)\n",
        "  ax.legend()\n"
      ],
      "metadata": {
        "id": "VHuDJV7O8Lzs",
        "cellView": "form"
      },
      "execution_count": 25,
      "outputs": []
    },
    {
      "cell_type": "markdown",
      "source": [
        "## Part 1"
      ],
      "metadata": {
        "id": "3qaJJ1dnIyUd"
      }
    },
    {
      "cell_type": "code",
      "source": [
        "env = gym.make('merge-v0',render_mode = 'rgb_array')\n",
        "agent = Agent(state_size=25, action_size=5,seed = 810198367 , buffer_size=1e3)\n",
        "TA = Train_Agent(env,agent,2000,5,0)\n",
        "agent_scores , steps = TA.train()"
      ],
      "metadata": {
        "colab": {
          "base_uri": "https://localhost:8080/"
        },
        "id": "C6wNA5ko3NMn",
        "outputId": "cadf646e-b754-44fd-f887-05ff41c73a35"
      },
      "execution_count": null,
      "outputs": [
        {
          "output_type": "stream",
          "name": "stdout",
          "text": [
            "Episode 2000\tAverage Score: 13.1\tnumber of steps = 15"
          ]
        }
      ]
    },
    {
      "cell_type": "code",
      "source": [
        "plot_results(agent_scores)"
      ],
      "metadata": {
        "colab": {
          "base_uri": "https://localhost:8080/",
          "height": 373
        },
        "id": "CTTiJhSd6FnG",
        "outputId": "eae2933a-94da-42af-aecf-ff4c660f3764"
      },
      "execution_count": null,
      "outputs": [
        {
          "output_type": "display_data",
          "data": {
            "text/plain": [
              "<Figure size 600x375 with 1 Axes>"
            ],
            "image/png": "[encoded data removed]"
          },
          "metadata": {}
        }
      ]
    },
    {
      "cell_type": "markdown",
      "source": [
        "### Rendering The Merge-v0 Environment"
      ],
      "metadata": {
        "id": "cG55IM8CzfyN"
      }
    },
    {
      "cell_type": "code",
      "source": [
        "env = gym.make('merge-v0',render_mode = 'rgb_array')\n",
        "agent = Agent(state_size=25, action_size=5,seed = 810198367 , buffer_size=1e5)\n",
        "TA = Train_Agent(env,agent,1500,1,0)\n",
        "agent_scores , steps = TA.train()"
      ],
      "metadata": {
        "colab": {
          "base_uri": "https://localhost:8080/"
        },
        "id": "ku2quVlOzoxB",
        "outputId": "52803e73-174f-45a5-e629-e882e5e9bda5"
      },
      "execution_count": 29,
      "outputs": [
        {
          "output_type": "stream",
          "name": "stderr",
          "text": [
            "/usr/local/lib/python3.8/dist-packages/gym/utils/passive_env_checker.py:31: UserWarning: \u001b[33mWARN: A Box observation space has an unconventional shape (neither an image, nor a 1D vector). We recommend flattening the observation to have only a 1D vector or use a custom policy to properly process the data. Actual observation shape: (5, 5)\u001b[0m\n",
            "  logger.warn(\n"
          ]
        },
        {
          "output_type": "stream",
          "name": "stdout",
          "text": [
            "Episode 1500\tAverage Score: 11.0\tnumber of steps = 11"
          ]
        }
      ]
    },
    {
      "cell_type": "code",
      "source": [
        "frames = TA.Evaluate_current_Network(10)"
      ],
      "metadata": {
        "id": "8X-vZ_KzM3yT"
      },
      "execution_count": 30,
      "outputs": []
    },
    {
      "cell_type": "code",
      "source": [
        "save_frames_as_gif(frames, path='./', filename='merge_animation.gif')"
      ],
      "metadata": {
        "id": "tfcFERnWirx5"
      },
      "execution_count": 31,
      "outputs": []
    },
    {
      "cell_type": "markdown",
      "source": [
        "## Part 2"
      ],
      "metadata": {
        "id": "HSPK1oROJIu2"
      }
    },
    {
      "cell_type": "markdown",
      "source": [
        "### Fast Highway without merge weights"
      ],
      "metadata": {
        "id": "XmxZpcSJNl7b"
      }
    },
    {
      "cell_type": "code",
      "source": [
        "plt.style.use('default')\n",
        "os.environ[\"SDL_VIDEODRIVER\"] = \"dummy\"\n",
        "env = gym.make('highway-fast-v0', render_mode='rgb_array')\n",
        "env.reset()\n",
        "env.render()\n",
        "os.environ['SDL_VIDEODRIVER'] = \"x11\"\n",
        "env = gym.make('highway-fast-v0', render_mode='rgb_array')\n",
        "env.reset()\n",
        "plt.imshow(env.render());\n",
        "plt.style.use('ggplot')"
      ],
      "metadata": {
        "id": "ndmzw6qGJLjE",
        "colab": {
          "base_uri": "https://localhost:8080/",
          "height": 278
        },
        "outputId": "33bd5a23-9ea4-4e21-dbf0-1e04b15e127e"
      },
      "execution_count": 13,
      "outputs": [
        {
          "output_type": "stream",
          "name": "stderr",
          "text": [
            "/usr/local/lib/python3.8/dist-packages/gym/utils/passive_env_checker.py:31: UserWarning: \u001b[33mWARN: A Box observation space has an unconventional shape (neither an image, nor a 1D vector). We recommend flattening the observation to have only a 1D vector or use a custom policy to properly process the data. Actual observation shape: (5, 5)\u001b[0m\n",
            "  logger.warn(\n",
            "/usr/local/lib/python3.8/dist-packages/gym/utils/passive_env_checker.py:289: UserWarning: \u001b[33mWARN: No render fps was declared in the environment (env.metadata['render_fps'] is None or not defined), rendering may occur at inconsistent fps.\u001b[0m\n",
            "  logger.warn(\n"
          ]
        },
        {
          "output_type": "display_data",
          "data": {
            "text/plain": [
              "<Figure size 640x480 with 1 Axes>"
            ],
            "image/png": "[encoded data removed]"
          },
          "metadata": {}
        }
      ]
    },
    {
      "cell_type": "code",
      "source": [
        "env = gym.make('highway-fast-v0', render_mode='rgb_array')\n",
        "agent = Agent(state_size=25, action_size=5,seed = 810198367 , buffer_size=1e3)\n",
        "TA_hwf = Train_Agent(env , agent ,1500,1,0)\n",
        "agent_scores_hwf , steps = TA_hwf.train()"
      ],
      "metadata": {
        "id": "Ew0kftWxKW24",
        "colab": {
          "base_uri": "https://localhost:8080/"
        },
        "outputId": "405e3ee4-f64f-4668-f73d-b6b70d0a2fd4"
      },
      "execution_count": 14,
      "outputs": [
        {
          "output_type": "stream",
          "name": "stderr",
          "text": [
            "/usr/local/lib/python3.8/dist-packages/gym/utils/passive_env_checker.py:31: UserWarning: \u001b[33mWARN: A Box observation space has an unconventional shape (neither an image, nor a 1D vector). We recommend flattening the observation to have only a 1D vector or use a custom policy to properly process the data. Actual observation shape: (5, 5)\u001b[0m\n",
            "  logger.warn(\n"
          ]
        },
        {
          "output_type": "stream",
          "name": "stdout",
          "text": [
            "Episode 1500\tAverage Score: 8.2\tnumber of steps = 11"
          ]
        }
      ]
    },
    {
      "cell_type": "code",
      "source": [
        "frames = TA_hwf.Evaluate_current_Network(1)"
      ],
      "metadata": {
        "id": "gKmaLmZSNXDb",
        "colab": {
          "base_uri": "https://localhost:8080/"
        },
        "outputId": "1d38cccf-9c94-4ea3-f1dd-f30ec88db7b6"
      },
      "execution_count": 16,
      "outputs": [
        {
          "output_type": "stream",
          "name": "stderr",
          "text": [
            "/usr/local/lib/python3.8/dist-packages/gym/utils/passive_env_checker.py:289: UserWarning: \u001b[33mWARN: No render fps was declared in the environment (env.metadata['render_fps'] is None or not defined), rendering may occur at inconsistent fps.\u001b[0m\n",
            "  logger.warn(\n"
          ]
        }
      ]
    },
    {
      "cell_type": "code",
      "source": [
        "save_frames_as_gif(frames, path='./', filename='Fast_Highway_animation.gif')"
      ],
      "metadata": {
        "id": "i-KIHjCkMzDM"
      },
      "execution_count": 17,
      "outputs": []
    },
    {
      "cell_type": "markdown",
      "source": [
        "### Fast Highway with merge weights"
      ],
      "metadata": {
        "id": "ViYY0FBTNwML"
      }
    },
    {
      "cell_type": "code",
      "source": [
        "env = gym.make('merge-v0',render_mode = 'rgb_array')\n",
        "agent = Agent(state_size=25, action_size=5,seed = 810198367 , buffer_size=1e5)\n",
        "TA = Train_Agent(env,agent,1500,1,0)\n",
        "agent_scores , steps = TA.train()"
      ],
      "metadata": {
        "colab": {
          "base_uri": "https://localhost:8080/"
        },
        "id": "64ar0kE33oUm",
        "outputId": "3c44d08a-4d82-4479-ea1d-33521a2279b0"
      },
      "execution_count": 18,
      "outputs": [
        {
          "output_type": "stream",
          "name": "stderr",
          "text": [
            "/usr/local/lib/python3.8/dist-packages/gym/utils/passive_env_checker.py:31: UserWarning: \u001b[33mWARN: A Box observation space has an unconventional shape (neither an image, nor a 1D vector). We recommend flattening the observation to have only a 1D vector or use a custom policy to properly process the data. Actual observation shape: (5, 5)\u001b[0m\n",
            "  logger.warn(\n"
          ]
        },
        {
          "output_type": "stream",
          "name": "stdout",
          "text": [
            "Episode 1500\tAverage Score: 11.0\tnumber of steps = 11"
          ]
        }
      ]
    },
    {
      "cell_type": "code",
      "source": [
        "env1 = gym.make('highway-fast-v0',render_mode = 'rgb_array')\n",
        "agent1 = Agent(state_size=25, action_size=5,seed = 810198367 , buffer_size=1e5)\n",
        "TA_TL = Train_Transfer_Learning_Agent(env1,agent1,1500,1,0,'./local_weights','./target_weights')\n",
        "agent_scores_TA_TL , steps = TA_TL.train()"
      ],
      "metadata": {
        "colab": {
          "base_uri": "https://localhost:8080/"
        },
        "id": "BKzW877Q96c-",
        "outputId": "4528516c-7b51-4719-c3d7-805d74eb5301"
      },
      "execution_count": 19,
      "outputs": [
        {
          "output_type": "stream",
          "name": "stdout",
          "text": [
            "Episode 1500\tAverage Score: 17.5\tnumber of steps = 29"
          ]
        }
      ]
    },
    {
      "cell_type": "code",
      "source": [
        "fig, ax = plt.subplots(figsize = (6, 3.75))\n",
        "plot_results(agent_scores_hwf,100,fig,ax,'without merge weights')\n",
        "plot_results(agent_scores_TA_TL,100,fig,ax,'with merge weights')"
      ],
      "metadata": {
        "colab": {
          "base_uri": "https://localhost:8080/",
          "height": 373
        },
        "id": "EDmDmdrr5pOf",
        "outputId": "65a2747e-0e31-4cc0-93af-9a9315e7d2c8"
      },
      "execution_count": 26,
      "outputs": [
        {
          "output_type": "display_data",
          "data": {
            "text/plain": [
              "<Figure size 600x375 with 1 Axes>"
            ],
            "image/png": "[encoded data removed]"
          },
          "metadata": {}
        }
      ]
    },
    {
      "cell_type": "markdown",
      "source": [
        "## Part 3"
      ],
      "metadata": {
        "id": "ccYu4cKiYD3y"
      }
    },
    {
      "cell_type": "markdown",
      "source": [
        "### DQN with Image Observation"
      ],
      "metadata": {
        "id": "FF6qmXCnYJeb"
      }
    },
    {
      "cell_type": "code",
      "source": [
        "class Image_Observerer_Training_Agent():\n",
        "  def __init__(self,env,agent,Episodes,Repeats,Epsilon_policy):\n",
        "    self.env = env\n",
        "    self.agent = agent\n",
        "    self.Episodes = Episodes\n",
        "    self.Repeats = Repeats\n",
        "    self.agent_scores = []\n",
        "    self.frames = []\n",
        "    self.max_t = 1000000\n",
        "\n",
        "  def train(self):\n",
        "    eps_start = 1.0\n",
        "    eps_end = 0.001\n",
        "    eps_decay = 0.995\n",
        "\n",
        "    for r in range(1,self.Repeats+1):\n",
        "      scores = []\n",
        "      ts = []\n",
        "      eps = eps_start\n",
        "      for i_episode in range(1, self.Episodes+1):\n",
        "          _ , _ = self.env.reset()\n",
        "          previous_image = self.change_image_size(self.env.render())\n",
        "          current_image = self.change_image_size(self.env.render())\n",
        "\n",
        "          observation = current_image - previous_image\n",
        "\n",
        "          score = 0\n",
        "          for t in range(self.max_t):\n",
        "              action = self.agent.act(observation, eps)\n",
        "              _, reward, done, truncated, _ = self.env.step(action)\n",
        "              previous_image = current_image\n",
        "              current_image = self.change_image_size(self.env.render())\n",
        "              next_observation = current_image - previous_image\n",
        "              self.agent.step(observation, action, reward, next_observation, done)\n",
        "              observation = next_observation\n",
        "              score += reward\n",
        "              if done or truncated:\n",
        "                  break\n",
        "          scores.append(score)\n",
        "          ts.append(t)\n",
        "          eps = max(eps_end, eps_decay*eps)\n",
        "\n",
        "          print('\\rEpisode {}\\tAverage Score: {:.1f}\\tnumber of steps = {}'.format(i_episode,np.mean(scores),t), end=\"\")\n",
        "\n",
        "          if i_episode % self.Episodes == 0:\n",
        "                    torch.save(self.agent.qnetwork_local.state_dict(), './local_weights')\n",
        "                    torch.save(self.agent.qnetwork_target.state_dict(), './target_weights')\n",
        "\n",
        "      self.agent_scores.append(scores)\n",
        "    return self.agent_scores,ts\n",
        "\n",
        "  def Evaluate_current_Network(self,test_episodes):\n",
        "    scores = []\n",
        "    for i_episode in range(1, test_episodes+1):\n",
        "        state,info = self.env.reset()\n",
        "        score = 0\n",
        "        for t in range(self.max_t):\n",
        "            action = self.agent.act_with_updated_values(state.flatten())\n",
        "            next_state, reward, done, truncated, info = self.env.step(action)\n",
        "            frame = env.render()\n",
        "            self.frames.append(frame)\n",
        "            state = next_state\n",
        "            score += reward\n",
        "            if done or truncated:\n",
        "                break\n",
        "        scores.append(score)\n",
        "    return self.frames\n",
        "\n",
        "  def change_image_size(self, image):\n",
        "        image = np.ascontiguousarray(image, dtype=np.float32) / 255\n",
        "        image = torch.from_numpy(image)\n",
        "        image = image.permute(2,0,1)\n",
        "        return image.numpy()"
      ],
      "metadata": {
        "id": "FaSSc5lFYGkf"
      },
      "execution_count": 50,
      "outputs": []
    },
    {
      "cell_type": "code",
      "source": [
        "env = gym.make('merge-v0',render_mode = 'rgb_array')\n",
        "agent = Agent_CNN(state_size=25, action_size=5,seed = 810198367 , buffer_size=1e5)\n",
        "TA_IO = Image_Observerer_Training_Agent(env,agent,1500,1,0)\n",
        "agent_scores_IO , steps = TA_IO.train()"
      ],
      "metadata": {
        "id": "X3tRcdXeZZ5r"
      },
      "execution_count": null,
      "outputs": []
    },
    {
      "cell_type": "code",
      "source": [],
      "metadata": {
        "id": "zp6lF05eeoF3"
      },
      "execution_count": null,
      "outputs": []
    }
  ]
}