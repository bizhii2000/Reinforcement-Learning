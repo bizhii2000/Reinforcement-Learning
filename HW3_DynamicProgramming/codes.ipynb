{
 "cells": [
  {
   "cell_type": "code",
   "execution_count": 1,
   "metadata": {},
   "outputs": [],
   "source": [
    "import numpy as np\n",
    "from gym import Env"
   ]
  },
  {
   "cell_type": "code",
   "execution_count": 2,
   "metadata": {},
   "outputs": [],
   "source": [
    "def make_map(studentNum): \n",
    "    \"\"\"\n",
    "    Observation Space : map of environment \n",
    "    A 6*6 Grid Graph\n",
    "    Start point = (0,0)\n",
    "    End point = (5,5)\n",
    "    Just one safe path for each Student number\n",
    "    The probability of falling in each state:\n",
    "    in safe path = 0.0001 and for other states = 1\n",
    "\n",
    "    :param 1: Student number \n",
    "    \n",
    "    :return : The Created Map \n",
    "    \"\"\"\n",
    "\n",
    "    np.random.seed(studentNum)  \n",
    "    move = np.zeros(10)  # Minimum moves for start to the end point in a 6*6 grid graph\n",
    "    idx = np.random.choice(range(10),size=5,replace=False)\n",
    "    move[idx] = 1\n",
    "\n",
    "    point = [0,0]\n",
    "    lowprobs = [tuple(point)]\n",
    "\n",
    "    for m in move:\n",
    "        if m:\n",
    "            point[0] += 1\n",
    "        else:\n",
    "            point[1] += 1\n",
    "        lowprobs.append(tuple(point))\n",
    "\n",
    "    idx = np.array(lowprobs)\n",
    "    map = np.ones((6,6))\n",
    "    map[idx[:,0],idx[:,1]] = 0.0001  \n",
    "    \n",
    "    map[0,0] = 0.0   # Start point\n",
    "    map[5,5] = 0.0   # End point\n",
    "\n",
    "    return map\n",
    "\n",
    "def make_map_part2(studentNum):\n",
    "\n",
    "    np.random.seed(studentNum)  \n",
    "    move = np.zeros(10)  # Minimum moves for start to the end point in a 6*6 grid graph\n",
    "    idx = np.random.choice(range(10),size=5,replace=False)\n",
    "    move[idx] = 1\n",
    "\n",
    "    point = [0,0]\n",
    "    lowprobs = [tuple(point)]\n",
    "\n",
    "    for m in move:\n",
    "        if m:\n",
    "            point[0] += 1\n",
    "        else:\n",
    "            point[1] += 1\n",
    "        lowprobs.append(tuple(point))\n",
    "\n",
    "    idx = np.array(lowprobs)\n",
    "    map = np.random.uniform(0,1,(6,6))\n",
    "    map[idx[:,0],idx[:,1]] = 0.001  \n",
    "    \n",
    "    map[0,0] = 0.0   # Start point\n",
    "    map[5,5] = 0.0   # End point\n",
    "\n",
    "    return map\n",
    "\n",
    "def make_map_part3(studentNum):\n",
    "    np.random.seed(studentNum)  \n",
    "    move = np.zeros(28)  # Minimum moves for start to the end point in a 15*15 grid graph\n",
    "    idx = np.random.choice(range(28),size=14,replace=False)\n",
    "    move[idx] = 1\n",
    "\n",
    "    point = [0,0]\n",
    "    lowprobs = [tuple(point)]\n",
    "\n",
    "    for m in move:\n",
    "        if m:\n",
    "            point[0] += 1\n",
    "        else:\n",
    "            point[1] += 1\n",
    "        lowprobs.append(tuple(point))\n",
    "\n",
    "    idx = np.array(lowprobs)\n",
    "    map = np.random.uniform(0,1,(15,15))\n",
    "    map[idx[:,0],idx[:,1]] = 0.001  \n",
    "    \n",
    "    map[0,0] = 0.0   # Start point\n",
    "    map[14,14] = 0.0   # End point\n",
    "\n",
    "    return map"
   ]
  },
  {
   "attachments": {},
   "cell_type": "markdown",
   "metadata": {},
   "source": [
    "### Enviroment"
   ]
  },
  {
   "cell_type": "code",
   "execution_count": 3,
   "metadata": {},
   "outputs": [],
   "source": [
    "class FrozenLake(Env):\n",
    "    def __init__(self,studentNum,action_space,observation_space,p_error = 0.94,transition_cost = -1,goal_reward = 100,punishment = -10):\n",
    "        \n",
    "        self.studentNum = studentNum\n",
    "        self.action_space = action_space\n",
    "        self.observation_space = observation_space\n",
    "        self.LEFT = action_space[0]\n",
    "        self.DOWN = action_space[1]\n",
    "        self.RIGHT = action_space[2]\n",
    "        self.UP = action_space[3]\n",
    "\n",
    "        observation_shape = self.observation_space.shape\n",
    "        action_shape = self.action_space.shape\n",
    "        self.nS = np.prod(observation_shape)\n",
    "        self.nA = np.prod(action_shape)\n",
    "        self.grid = np.arange(self.nS).reshape(observation_shape)\n",
    "\n",
    "        self.p_error = p_error\n",
    "        self.transition_cost = transition_cost\n",
    "        self.goal_reward = goal_reward\n",
    "        self.punishment = punishment\n",
    "        \n",
    "        self.MAX_X = self.observation_space.shape[0]\n",
    "        self.MAX_Y = self.observation_space.shape[1]\n",
    "\n",
    "    def transitions(self):\n",
    "        neighbors = {}\n",
    "        for s in range(self.nS):\n",
    "            idx = np.argwhere(self.grid == s)\n",
    "            neighbors[s] = {a : [] for a in range(self.nA)}\n",
    "            if(s != (self.MAX_X*self.MAX_Y-1)):\n",
    "                neighbors[s][self.LEFT] = s-1 if(idx[0,1] != 0) else s\n",
    "                neighbors[s][self.DOWN] = s + self.MAX_X if(idx[0,0] != self.MAX_Y-1) else s\n",
    "                neighbors[s][self.RIGHT] = s+1 if(idx[0,1] != self.MAX_X-1) else s\n",
    "                neighbors[s][self.UP] = s-self.MAX_X if(idx[0,0] != 0) else s\n",
    "            else:\n",
    "                neighbors[s][self.LEFT] = s\n",
    "                neighbors[s][self.DOWN] = s\n",
    "                neighbors[s][self.RIGHT] = s\n",
    "                neighbors[s][self.UP] = s               \n",
    "        return neighbors\n",
    "\n",
    "    def accessible_states(self,current_state):\n",
    "        accessible_states = np.zeros(self.nA)\n",
    "        for i in range(self.nA):\n",
    "            accessible_states[i] = self.transitions()[current_state][i]\n",
    "        return accessible_states\n",
    "\n",
    "    def available_states(self):\n",
    "        available_states = []\n",
    "        for i in range(self.nS):\n",
    "            where = np.argwhere(self.grid == i)\n",
    "            [idx1,idx2] = [where[0,0],where[0,1]]\n",
    "            if(self.observation_space[idx1][idx2] < 1):\n",
    "                available_states = np.append(available_states,i) \n",
    "        return available_states\n",
    "\n",
    "    def transition_probs(self,current_state,next_state,action):\n",
    "        if(current_state == 0 and next_state == 0):\n",
    "            if(action == 0):\n",
    "                return self.p_error\n",
    "            else:\n",
    "                return (1-self.p_error)/3\n",
    "        else:\n",
    "            if(self.transitions()[current_state][action] == next_state):\n",
    "                return self.p_error\n",
    "            else:\n",
    "                return (1-self.p_error)/3\n",
    "            \n",
    "    def is_alive(self,next_state):\n",
    "        idx = np.argwhere(self.grid == next_state)\n",
    "        falling_prob = self.observation_space[idx[0,0],idx[0,1]]\n",
    "        choice = np.random.uniform(0,1)\n",
    "        #return (choice > falling_prob)\n",
    "        return falling_prob\n",
    "\n",
    "    def get_reward(self,current_state,next_state):\n",
    "        \n",
    "        falling_prob = self.is_alive(next_state)\n",
    "        if(current_state == next_state):\n",
    "            reward = 0 + self.punishment * (falling_prob)\n",
    "        elif(next_state == (self.MAX_X*self.MAX_Y-1)):\n",
    "            reward = self.goal_reward + self.transition_cost\n",
    "        else:\n",
    "            reward = self.transition_cost * (1 - falling_prob) + self.punishment * (falling_prob)\n",
    "\n",
    "        return reward\n",
    "\n",
    "    def is_goal(self,current_state):\n",
    "        return (current_state == (self.MAX_X*self.MAX_Y-1))\n",
    "\n",
    "    "
   ]
  },
  {
   "attachments": {},
   "cell_type": "markdown",
   "metadata": {},
   "source": [
    "### Agent"
   ]
  },
  {
   "cell_type": "code",
   "execution_count": 43,
   "metadata": {},
   "outputs": [],
   "source": [
    "class agent():\n",
    "    \n",
    "    def __init__(self,Enviroment,theta,discount):\n",
    "        self.Enviroment = Enviroment\n",
    "        self.theta = theta\n",
    "        self.discount = discount\n",
    "        \n",
    "        self.v_change = bool\n",
    "\n",
    "        self.V = {s: 0 for s in range(0, self.Enviroment.nS)}\n",
    "        # init V\n",
    "        self.policy = {s: 0 for s in range(0, self.Enviroment.nS)}\n",
    "\n",
    "        self.state_action_val = np.zeros((self.Enviroment.nS,4))\n",
    "\n",
    "    def policy_evaluation(self):\n",
    "        v_prior =  np.array(list(self.V.items()))[:,1]\n",
    "        while True:\n",
    "            Delta = 0\n",
    "            v_temp = self.V\n",
    "            for s in self.Enviroment.available_states():\n",
    "                a = self.policy[s]\n",
    "                new_V = 0\n",
    "                zero_state = 0\n",
    "                for next_state in self.Enviroment.accessible_states(s):\n",
    "\n",
    "                    if(zero_state==0):\n",
    "                            new_V += self.Enviroment.transition_probs(s,next_state,a) * (self.Enviroment.get_reward(s,next_state) + \n",
    "                            self.discount * v_temp[next_state])\n",
    "                            zero_state = zero_state + 1\n",
    "                    elif(zero_state==1 and (next_state==0 or next_state==self.Enviroment.grid[0,-1] or next_state==self.Enviroment.grid[-1,0])): \n",
    "                            new_V += (1-self.Enviroment.p_error)/3 * (self.Enviroment.get_reward(s,next_state) + \n",
    "                            self.discount * v_temp[next_state])\n",
    "                    else:\n",
    "                            new_V += self.Enviroment.transition_probs(s,next_state,a) * (self.Enviroment.get_reward(s,next_state) + \n",
    "                            self.discount * v_temp[next_state])                    \n",
    "\n",
    "                    self.V[s] = new_V\n",
    "                Delta = max(Delta, abs(v_temp[s] - self.V[s]))\n",
    "            if(Delta < self.theta): break\n",
    "        v_post = np.array(list(self.V.items()))[:,1]\n",
    "        self.v_change = (np.max(np.abs(v_post-v_prior)) > self.theta)\n",
    "        return self.v_change\n",
    "\n",
    "    def policy_improvement(self):\n",
    "        policy_stable = True\n",
    "        for s in self.Enviroment.available_states():\n",
    "            old_action = self.policy[s]\n",
    "            action_val = np.zeros(len(self.Enviroment.action_space))\n",
    "            for a in self.Enviroment.action_space:\n",
    "                new_V = 0\n",
    "                zero_state = 0\n",
    "                for next_state in self.Enviroment.accessible_states(s):\n",
    "\n",
    "                    if(zero_state== 0):\n",
    "                            new_V += self.Enviroment.transition_probs(s,next_state,a) * (self.Enviroment.get_reward(s,next_state) + \n",
    "                            self.discount * self.V[next_state])\n",
    "                            zero_state = zero_state + 1\n",
    "                    elif(zero_state==1 and (next_state==0 or next_state==self.Enviroment.grid[0,-1] or next_state==self.Enviroment.grid[-1,0])): \n",
    "                            new_V += (1-self.Enviroment.p_error)/3 * (self.Enviroment.get_reward(s,next_state) + \n",
    "                            self.discount * self.V[next_state])\n",
    "                    else:\n",
    "                            new_V += self.Enviroment.transition_probs(s,next_state,a) * (self.Enviroment.get_reward(s,next_state) + \n",
    "                            self.discount * self.V[next_state])                    \n",
    "\n",
    "\n",
    "\n",
    "                action_val[a] = new_V            \n",
    "            self.policy[s] = np.argmax(action_val)\n",
    "            if(old_action != self.policy[s] or self.v_change):\n",
    "                policy_stable = False\n",
    "        return policy_stable\n",
    "\n",
    "    def state_action_value(self):\n",
    "        for s in self.Enviroment.available_states():\n",
    "            for a in self.Enviroment.action_space:\n",
    "                self.state_action_val[int(s)][a] = self.V[self.Enviroment.transitions()[s][a]]\n",
    "     \n",
    "    \n",
    "    def value_iteration(self):\n",
    "        while True:\n",
    "            delta = 0\n",
    "            v_temp = self.V.copy()\n",
    "            for s in self.Enviroment.available_states():\n",
    "                old_v = self.V[s]\n",
    "                action_val = np.zeros(len(self.Enviroment.action_space))\n",
    "                \n",
    "                for a in self.Enviroment.action_space:\n",
    "                    new_V = 0\n",
    "                    zero_state = 0\n",
    "                    for next_state in self.Enviroment.accessible_states(s):\n",
    "                        if(zero_state==0):\n",
    "                                new_V += self.Enviroment.transition_probs(s,next_state,a) * (self.Enviroment.get_reward(s,next_state) + \n",
    "                                self.discount * v_temp[next_state])\n",
    "                                zero_state = zero_state + 1\n",
    "                        elif(zero_state==1 and (next_state==0 or next_state==self.Enviroment.grid[0,-1] or next_state==self.Enviroment.grid[-1,0])): \n",
    "                                new_V += (1-self.Enviroment.p_error)/3* (self.Enviroment.get_reward(s,next_state) + \n",
    "                                self.discount * v_temp[next_state])\n",
    "                        else:\n",
    "                                new_V += self.Enviroment.transition_probs(s,next_state,a) * (self.Enviroment.get_reward(s,next_state) + \n",
    "                                self.discount * v_temp[next_state])                    \n",
    "\n",
    "                    action_val[a] = new_V        \n",
    "                self.V[s] = np.max(action_val)\n",
    "                delta = max(delta, abs(old_v - self.V[s]))\n",
    "            if(delta < self.theta): break\n",
    "\n",
    "        for s in self.Enviroment.available_states():\n",
    "            action_val = np.zeros(len(self.Enviroment.action_space))\n",
    "            for a in self.Enviroment.action_space:\n",
    "                new_V = 0\n",
    "                zero_state = 0\n",
    "                for next_state in self.Enviroment.accessible_states(s):\n",
    "                    if(zero_state==0):\n",
    "                            new_V += self.Enviroment.transition_probs(s,next_state,a) * (self.Enviroment.get_reward(s,next_state) + \n",
    "                            self.discount * v_temp[next_state])\n",
    "                            zero_state = zero_state + 1\n",
    "                    elif(zero_state==1 and (next_state==0 or next_state==self.Enviroment.grid[0,-1] or next_state==self.Enviroment.grid[-1,0])): \n",
    "                            new_V += (1-self.Enviroment.p_error)/3 * (self.Enviroment.get_reward(s,next_state) + \n",
    "                            self.discount * v_temp[next_state])\n",
    "                    else:\n",
    "                            new_V += self.Enviroment.transition_probs(s,next_state,a) * (self.Enviroment.get_reward(s,next_state) + \n",
    "                            self.discount * v_temp[next_state])                    \n",
    "\n",
    "                action_val[a] = new_V        \n",
    "            self.policy[s] = np.argmax(action_val)\n",
    "        self.state_action_value()\n",
    "    \n",
    "    def policy_iteration(self):\n",
    "        while True:\n",
    "            self.policy_evaluation()\n",
    "            policy_stable = self.policy_improvement()\n",
    "            if(policy_stable):\n",
    "                break\n",
    "        self.state_action_value()"
   ]
  },
  {
   "attachments": {},
   "cell_type": "markdown",
   "metadata": {},
   "source": [
    "### functions"
   ]
  },
  {
   "cell_type": "code",
   "execution_count": 44,
   "metadata": {},
   "outputs": [],
   "source": [
    "def plot(Enviroment,agent):\n",
    "    op_pol = np.zeros((Enviroment.MAX_X,Enviroment.MAX_Y))\n",
    "    final_val = np.zeros((Enviroment.MAX_X,Enviroment.MAX_Y))\n",
    "    for i in range(Enviroment.MAX_X):\n",
    "        for j in range(Enviroment.MAX_Y):\n",
    "            if(np.sum((Enviroment.available_states() == i*Enviroment.MAX_X+j).astype(int)) == 1):\n",
    "                op_pol[i][j] = agent.policy[i*Enviroment.MAX_X+j]\n",
    "    op_pol_list = op_pol.tolist()\n",
    "    for i in range(Enviroment.MAX_X):\n",
    "        for j in range(Enviroment.MAX_Y):\n",
    "            if(np.sum((Enviroment.available_states() == i*Enviroment.MAX_X+j).astype(int)) == 1):\n",
    "                if(op_pol_list[i][j] == 0):\n",
    "                    op_pol_list[i][j] = 'l'\n",
    "                if(op_pol_list[i][j] == 1):\n",
    "                    op_pol_list[i][j] = 'd'\n",
    "                if(op_pol_list[i][j] == 2):\n",
    "                    op_pol_list[i][j] = 'r'\n",
    "                if(op_pol_list[i][j] == 3):\n",
    "                    op_pol_list[i][j] = 'u'\n",
    "            else:\n",
    "                op_pol_list[i][j] = 'T'\n",
    "    op_pol_list[Enviroment.MAX_X-1][Enviroment.MAX_X-1] = 'G'\n",
    "    for i in range(Enviroment.MAX_X):\n",
    "        print(op_pol_list[i])\n",
    "\n",
    "    for i in range(Enviroment.MAX_X):\n",
    "        for j in range(Enviroment.MAX_Y):\n",
    "            if(np.sum((Enviroment.available_states() == i*Enviroment.MAX_X+j).astype(int)) == 1):\n",
    "                final_val[i][j] = agent.V[i*Enviroment.MAX_X+j]\n",
    "    print(final_val)"
   ]
  },
  {
   "attachments": {},
   "cell_type": "markdown",
   "metadata": {},
   "source": [
    "## Part 1"
   ]
  },
  {
   "cell_type": "code",
   "execution_count": 45,
   "metadata": {},
   "outputs": [
    {
     "data": {
      "text/plain": [
       "array([[0.e+00, 1.e-04, 1.e-04, 1.e+00, 1.e+00, 1.e+00],\n",
       "       [1.e+00, 1.e+00, 1.e-04, 1.e+00, 1.e+00, 1.e+00],\n",
       "       [1.e+00, 1.e+00, 1.e-04, 1.e-04, 1.e-04, 1.e+00],\n",
       "       [1.e+00, 1.e+00, 1.e+00, 1.e+00, 1.e-04, 1.e-04],\n",
       "       [1.e+00, 1.e+00, 1.e+00, 1.e+00, 1.e+00, 1.e-04],\n",
       "       [1.e+00, 1.e+00, 1.e+00, 1.e+00, 1.e+00, 0.e+00]])"
      ]
     },
     "execution_count": 45,
     "metadata": {},
     "output_type": "execute_result"
    }
   ],
   "source": [
    "make_map(810198367)"
   ]
  },
  {
   "cell_type": "code",
   "execution_count": 46,
   "metadata": {},
   "outputs": [],
   "source": [
    "LEFT, DOWN, RIGHT, UP = 0, 1, 2, 3\n",
    "student_num = 810198367\n",
    "map = make_map(student_num)\n",
    "action_space = np.array([LEFT,DOWN,RIGHT,UP])\n",
    "\n",
    "e1 = FrozenLake(student_num,action_space,map,0.94)\n",
    "a1 = agent(e1,0.000001,0.9)"
   ]
  },
  {
   "cell_type": "code",
   "execution_count": 47,
   "metadata": {},
   "outputs": [],
   "source": [
    "a1.policy_iteration()"
   ]
  },
  {
   "cell_type": "code",
   "execution_count": 48,
   "metadata": {},
   "outputs": [
    {
     "name": "stdout",
     "output_type": "stream",
     "text": [
      "['r', 'r', 'd', 'T', 'T', 'T']\n",
      "['T', 'T', 'd', 'T', 'T', 'T']\n",
      "['T', 'T', 'r', 'r', 'd', 'T']\n",
      "['T', 'T', 'T', 'T', 'r', 'd']\n",
      "['T', 'T', 'T', 'T', 'T', 'd']\n",
      "['T', 'T', 'T', 'T', 'T', 'G']\n",
      "[[19.30392701 23.35221698 28.0764827   0.          0.          0.        ]\n",
      " [ 0.          0.         33.47586961  0.          0.          0.        ]\n",
      " [ 0.          0.         40.58080014 48.86418261 58.50424611  0.        ]\n",
      " [ 0.          0.          0.          0.         69.72287804 82.77856455]\n",
      " [ 0.          0.          0.          0.          0.         96.00145616]\n",
      " [ 0.          0.          0.          0.          0.          0.        ]]\n"
     ]
    }
   ],
   "source": [
    "plot(e1,a1)"
   ]
  },
  {
   "cell_type": "code",
   "execution_count": 51,
   "metadata": {},
   "outputs": [
    {
     "data": {
      "text/plain": [
       "array([[19.30392701,  0.        , 23.35221698, 19.30392701],\n",
       "       [19.30392701,  0.        , 28.0764827 , 23.35221698],\n",
       "       [23.35221698, 33.47586961,  0.        , 28.0764827 ],\n",
       "       [ 0.        ,  0.        ,  0.        ,  0.        ],\n",
       "       [ 0.        ,  0.        ,  0.        ,  0.        ],\n",
       "       [ 0.        ,  0.        ,  0.        ,  0.        ],\n",
       "       [ 0.        ,  0.        ,  0.        ,  0.        ],\n",
       "       [ 0.        ,  0.        ,  0.        ,  0.        ],\n",
       "       [ 0.        , 40.58080014,  0.        , 28.0764827 ],\n",
       "       [ 0.        ,  0.        ,  0.        ,  0.        ],\n",
       "       [ 0.        ,  0.        ,  0.        ,  0.        ],\n",
       "       [ 0.        ,  0.        ,  0.        ,  0.        ],\n",
       "       [ 0.        ,  0.        ,  0.        ,  0.        ],\n",
       "       [ 0.        ,  0.        ,  0.        ,  0.        ],\n",
       "       [ 0.        ,  0.        , 48.86418261, 33.47586961],\n",
       "       [40.58080014,  0.        , 58.50424611,  0.        ],\n",
       "       [48.86418261, 69.72287804,  0.        ,  0.        ],\n",
       "       [ 0.        ,  0.        ,  0.        ,  0.        ],\n",
       "       [ 0.        ,  0.        ,  0.        ,  0.        ],\n",
       "       [ 0.        ,  0.        ,  0.        ,  0.        ],\n",
       "       [ 0.        ,  0.        ,  0.        ,  0.        ],\n",
       "       [ 0.        ,  0.        ,  0.        ,  0.        ],\n",
       "       [ 0.        ,  0.        , 82.77856455, 58.50424611],\n",
       "       [69.72287804, 96.00145616, 82.77856455,  0.        ],\n",
       "       [ 0.        ,  0.        ,  0.        ,  0.        ],\n",
       "       [ 0.        ,  0.        ,  0.        ,  0.        ],\n",
       "       [ 0.        ,  0.        ,  0.        ,  0.        ],\n",
       "       [ 0.        ,  0.        ,  0.        ,  0.        ],\n",
       "       [ 0.        ,  0.        ,  0.        ,  0.        ],\n",
       "       [ 0.        ,  0.        , 96.00145616, 82.77856455],\n",
       "       [ 0.        ,  0.        ,  0.        ,  0.        ],\n",
       "       [ 0.        ,  0.        ,  0.        ,  0.        ],\n",
       "       [ 0.        ,  0.        ,  0.        ,  0.        ],\n",
       "       [ 0.        ,  0.        ,  0.        ,  0.        ],\n",
       "       [ 0.        ,  0.        ,  0.        ,  0.        ],\n",
       "       [ 0.        ,  0.        ,  0.        ,  0.        ]])"
      ]
     },
     "execution_count": 51,
     "metadata": {},
     "output_type": "execute_result"
    }
   ],
   "source": [
    "a1.state_action_val"
   ]
  },
  {
   "cell_type": "code",
   "execution_count": 52,
   "metadata": {},
   "outputs": [],
   "source": [
    "e1 = FrozenLake(student_num,action_space,map,0.94)\n",
    "a1 = agent(e1,0.000001,0.9)"
   ]
  },
  {
   "cell_type": "code",
   "execution_count": 53,
   "metadata": {},
   "outputs": [],
   "source": [
    "a1.value_iteration()"
   ]
  },
  {
   "cell_type": "code",
   "execution_count": 54,
   "metadata": {},
   "outputs": [
    {
     "name": "stdout",
     "output_type": "stream",
     "text": [
      "['r', 'r', 'd', 'T', 'T', 'T']\n",
      "['T', 'T', 'd', 'T', 'T', 'T']\n",
      "['T', 'T', 'r', 'r', 'd', 'T']\n",
      "['T', 'T', 'T', 'T', 'r', 'd']\n",
      "['T', 'T', 'T', 'T', 'T', 'd']\n",
      "['T', 'T', 'T', 'T', 'T', 'G']\n",
      "[[19.34820256 23.39540585 28.11688762  0.          0.          0.        ]\n",
      " [ 0.          0.         33.51128881  0.          0.          0.        ]\n",
      " [ 0.          0.         40.62180714 48.91190064 58.55977791  0.        ]\n",
      " [ 0.          0.          0.          0.         69.78750319 82.85377208]\n",
      " [ 0.          0.          0.          0.          0.         96.06041741]\n",
      " [ 0.          0.          0.          0.          0.          0.        ]]\n"
     ]
    }
   ],
   "source": [
    "plot(e1,a1)"
   ]
  },
  {
   "cell_type": "code",
   "execution_count": 55,
   "metadata": {},
   "outputs": [
    {
     "data": {
      "text/plain": [
       "array([[19.34820256,  0.        , 23.39540585, 19.34820256],\n",
       "       [19.34820256,  0.        , 28.11688762, 23.39540585],\n",
       "       [23.39540585, 33.51128881,  0.        , 28.11688762],\n",
       "       [ 0.        ,  0.        ,  0.        ,  0.        ],\n",
       "       [ 0.        ,  0.        ,  0.        ,  0.        ],\n",
       "       [ 0.        ,  0.        ,  0.        ,  0.        ],\n",
       "       [ 0.        ,  0.        ,  0.        ,  0.        ],\n",
       "       [ 0.        ,  0.        ,  0.        ,  0.        ],\n",
       "       [ 0.        , 40.62180714,  0.        , 28.11688762],\n",
       "       [ 0.        ,  0.        ,  0.        ,  0.        ],\n",
       "       [ 0.        ,  0.        ,  0.        ,  0.        ],\n",
       "       [ 0.        ,  0.        ,  0.        ,  0.        ],\n",
       "       [ 0.        ,  0.        ,  0.        ,  0.        ],\n",
       "       [ 0.        ,  0.        ,  0.        ,  0.        ],\n",
       "       [ 0.        ,  0.        , 48.91190064, 33.51128881],\n",
       "       [40.62180714,  0.        , 58.55977791,  0.        ],\n",
       "       [48.91190064, 69.78750319,  0.        ,  0.        ],\n",
       "       [ 0.        ,  0.        ,  0.        ,  0.        ],\n",
       "       [ 0.        ,  0.        ,  0.        ,  0.        ],\n",
       "       [ 0.        ,  0.        ,  0.        ,  0.        ],\n",
       "       [ 0.        ,  0.        ,  0.        ,  0.        ],\n",
       "       [ 0.        ,  0.        ,  0.        ,  0.        ],\n",
       "       [ 0.        ,  0.        , 82.85377208, 58.55977791],\n",
       "       [69.78750319, 96.06041741, 82.85377208,  0.        ],\n",
       "       [ 0.        ,  0.        ,  0.        ,  0.        ],\n",
       "       [ 0.        ,  0.        ,  0.        ,  0.        ],\n",
       "       [ 0.        ,  0.        ,  0.        ,  0.        ],\n",
       "       [ 0.        ,  0.        ,  0.        ,  0.        ],\n",
       "       [ 0.        ,  0.        ,  0.        ,  0.        ],\n",
       "       [ 0.        ,  0.        , 96.06041741, 82.85377208],\n",
       "       [ 0.        ,  0.        ,  0.        ,  0.        ],\n",
       "       [ 0.        ,  0.        ,  0.        ,  0.        ],\n",
       "       [ 0.        ,  0.        ,  0.        ,  0.        ],\n",
       "       [ 0.        ,  0.        ,  0.        ,  0.        ],\n",
       "       [ 0.        ,  0.        ,  0.        ,  0.        ],\n",
       "       [ 0.        ,  0.        ,  0.        ,  0.        ]])"
      ]
     },
     "execution_count": 55,
     "metadata": {},
     "output_type": "execute_result"
    }
   ],
   "source": [
    "a1.state_action_val"
   ]
  },
  {
   "attachments": {},
   "cell_type": "markdown",
   "metadata": {},
   "source": [
    "## Part 2"
   ]
  },
  {
   "cell_type": "code",
   "execution_count": 56,
   "metadata": {},
   "outputs": [
    {
     "data": {
      "text/plain": [
       "array([[0.   , 0.001, 0.001, 0.996, 0.772, 0.171],\n",
       "       [0.67 , 0.375, 0.001, 0.064, 0.976, 0.853],\n",
       "       [0.335, 0.444, 0.001, 0.001, 0.001, 0.137],\n",
       "       [0.454, 0.407, 0.807, 0.027, 0.001, 0.001],\n",
       "       [0.208, 0.175, 0.169, 0.359, 0.463, 0.001],\n",
       "       [0.775, 0.888, 0.939, 0.853, 0.995, 0.   ]])"
      ]
     },
     "execution_count": 56,
     "metadata": {},
     "output_type": "execute_result"
    }
   ],
   "source": [
    "np.round_((make_map_part2(810198367)), decimals = 3)"
   ]
  },
  {
   "cell_type": "code",
   "execution_count": 57,
   "metadata": {},
   "outputs": [],
   "source": [
    "LEFT, DOWN, RIGHT, UP = 0, 1, 2, 3\n",
    "student_num = 810198367\n",
    "map = make_map_part2(student_num)\n",
    "action_space = np.array([LEFT,DOWN,RIGHT,UP])\n",
    "\n",
    "e2 = FrozenLake(student_num,action_space,map,0.7)\n",
    "a2 = agent(e2,0.000001,0.9)"
   ]
  },
  {
   "cell_type": "code",
   "execution_count": 58,
   "metadata": {},
   "outputs": [],
   "source": [
    "a2.policy_iteration()"
   ]
  },
  {
   "cell_type": "code",
   "execution_count": 59,
   "metadata": {},
   "outputs": [
    {
     "name": "stdout",
     "output_type": "stream",
     "text": [
      "['r', 'r', 'd', 'd', 'd', 'd']\n",
      "['r', 'r', 'd', 'd', 'd', 'd']\n",
      "['r', 'r', 'r', 'r', 'd', 'd']\n",
      "['r', 'r', 'r', 'r', 'r', 'd']\n",
      "['r', 'r', 'r', 'r', 'r', 'd']\n",
      "['u', 'u', 'r', 'r', 'r', 'G']\n",
      "[[ 7.57250441 11.18767623 15.13268487 18.09085162 17.06240108 22.00375189]\n",
      " [ 6.96097647 14.37643218 20.71792736 26.36715707 33.09371449 38.33864416]\n",
      " [ 9.2451923  18.88845612 27.1294995  35.99545644 44.85899868 53.86404989]\n",
      " [10.31733217 18.70357511 33.56148044 44.54449507 56.82811871 69.75017725]\n",
      " [13.14222629 22.00859663 34.07528878 50.43333369 69.86419941 88.00316081]\n",
      " [ 5.37391463 12.17646357 25.44743617 46.72057938 77.7133737   0.        ]]\n"
     ]
    }
   ],
   "source": [
    "plot(e2,a2)"
   ]
  },
  {
   "cell_type": "code",
   "execution_count": 61,
   "metadata": {},
   "outputs": [
    {
     "data": {
      "text/plain": [
       "array([[ 7.57250441,  6.96097647, 11.18767623,  7.57250441],\n",
       "       [ 7.57250441, 14.37643218, 15.13268487, 11.18767623],\n",
       "       [11.18767623, 20.71792736, 18.09085162, 15.13268487],\n",
       "       [15.13268487, 26.36715707, 17.06240108, 18.09085162],\n",
       "       [18.09085162, 33.09371449, 22.00375189, 17.06240108],\n",
       "       [17.06240108, 38.33864416, 22.00375189, 22.00375189],\n",
       "       [ 6.96097647,  9.2451923 , 14.37643218,  7.57250441],\n",
       "       [ 6.96097647, 18.88845612, 20.71792736, 11.18767623],\n",
       "       [14.37643218, 27.1294995 , 26.36715707, 15.13268487],\n",
       "       [20.71792736, 35.99545644, 33.09371449, 18.09085162],\n",
       "       [26.36715707, 44.85899868, 38.33864416, 17.06240108],\n",
       "       [33.09371449, 53.86404989, 38.33864416, 22.00375189],\n",
       "       [ 9.2451923 , 10.31733217, 18.88845612,  6.96097647],\n",
       "       [ 9.2451923 , 18.70357511, 27.1294995 , 14.37643218],\n",
       "       [18.88845612, 33.56148044, 35.99545644, 20.71792736],\n",
       "       [27.1294995 , 44.54449507, 44.85899868, 26.36715707],\n",
       "       [35.99545644, 56.82811871, 53.86404989, 33.09371449],\n",
       "       [44.85899868, 69.75017725, 53.86404989, 38.33864416],\n",
       "       [10.31733217, 13.14222629, 18.70357511,  9.2451923 ],\n",
       "       [10.31733217, 22.00859663, 33.56148044, 18.88845612],\n",
       "       [18.70357511, 34.07528878, 44.54449507, 27.1294995 ],\n",
       "       [33.56148044, 50.43333369, 56.82811871, 35.99545644],\n",
       "       [44.54449507, 69.86419941, 69.75017725, 44.85899868],\n",
       "       [56.82811871, 88.00316081, 69.75017725, 53.86404989],\n",
       "       [13.14222629,  5.37391463, 22.00859663, 10.31733217],\n",
       "       [13.14222629, 12.17646357, 34.07528878, 18.70357511],\n",
       "       [22.00859663, 25.44743617, 50.43333369, 33.56148044],\n",
       "       [34.07528878, 46.72057938, 69.86419941, 44.54449507],\n",
       "       [50.43333369, 77.7133737 , 88.00316081, 56.82811871],\n",
       "       [69.86419941,  0.        , 88.00316081, 69.75017725],\n",
       "       [ 5.37391463,  5.37391463, 12.17646357, 13.14222629],\n",
       "       [ 5.37391463, 12.17646357, 25.44743617, 22.00859663],\n",
       "       [12.17646357, 25.44743617, 46.72057938, 34.07528878],\n",
       "       [25.44743617, 46.72057938, 77.7133737 , 50.43333369],\n",
       "       [46.72057938, 77.7133737 ,  0.        , 69.86419941],\n",
       "       [ 0.        ,  0.        ,  0.        ,  0.        ]])"
      ]
     },
     "execution_count": 61,
     "metadata": {},
     "output_type": "execute_result"
    }
   ],
   "source": [
    "a2.state_action_val"
   ]
  },
  {
   "cell_type": "code",
   "execution_count": 62,
   "metadata": {},
   "outputs": [],
   "source": [
    "e2 = FrozenLake(student_num,action_space,map,0.7)\n",
    "a2 = agent(e2,0.000001,0.9)"
   ]
  },
  {
   "cell_type": "code",
   "execution_count": 63,
   "metadata": {},
   "outputs": [],
   "source": [
    "a2.value_iteration()"
   ]
  },
  {
   "cell_type": "code",
   "execution_count": 64,
   "metadata": {},
   "outputs": [
    {
     "name": "stdout",
     "output_type": "stream",
     "text": [
      "['r', 'r', 'd', 'd', 'd', 'd']\n",
      "['r', 'r', 'd', 'd', 'd', 'd']\n",
      "['r', 'r', 'r', 'r', 'd', 'd']\n",
      "['r', 'r', 'r', 'r', 'r', 'd']\n",
      "['r', 'r', 'r', 'r', 'r', 'd']\n",
      "['u', 'r', 'r', 'r', 'r', 'G']\n",
      "[[ 8.68670814 12.40207016 16.43107398 19.51559256 18.87407697 25.04680121]\n",
      " [ 7.98660308 15.52954425 22.03799217 27.89791596 34.97229934 41.3486654 ]\n",
      " [10.42943158 20.22034083 28.65594644 37.76474822 46.93338577 56.94201728]\n",
      " [11.94248964 20.47981599 35.48501098 46.62537777 59.15996181 72.51388207]\n",
      " [15.95645006 25.32285147 37.57898426 53.53852888 72.27236376 89.79365522]\n",
      " [ 9.00390345 19.88518493 37.4032345  58.78101963 86.50025633  0.        ]]\n"
     ]
    }
   ],
   "source": [
    "plot(e2,a2)"
   ]
  },
  {
   "cell_type": "code",
   "execution_count": 65,
   "metadata": {},
   "outputs": [
    {
     "data": {
      "text/plain": [
       "array([[ 8.68670814,  7.98660308, 12.40207016,  8.68670814],\n",
       "       [ 8.68670814, 15.52954425, 16.43107398, 12.40207016],\n",
       "       [12.40207016, 22.03799217, 19.51559256, 16.43107398],\n",
       "       [16.43107398, 27.89791596, 18.87407697, 19.51559256],\n",
       "       [19.51559256, 34.97229934, 25.04680121, 18.87407697],\n",
       "       [18.87407697, 41.3486654 , 25.04680121, 25.04680121],\n",
       "       [ 7.98660308, 10.42943158, 15.52954425,  8.68670814],\n",
       "       [ 7.98660308, 20.22034083, 22.03799217, 12.40207016],\n",
       "       [15.52954425, 28.65594644, 27.89791596, 16.43107398],\n",
       "       [22.03799217, 37.76474822, 34.97229934, 19.51559256],\n",
       "       [27.89791596, 46.93338577, 41.3486654 , 18.87407697],\n",
       "       [34.97229934, 56.94201728, 41.3486654 , 25.04680121],\n",
       "       [10.42943158, 11.94248964, 20.22034083,  7.98660308],\n",
       "       [10.42943158, 20.47981599, 28.65594644, 15.52954425],\n",
       "       [20.22034083, 35.48501098, 37.76474822, 22.03799217],\n",
       "       [28.65594644, 46.62537777, 46.93338577, 27.89791596],\n",
       "       [37.76474822, 59.15996181, 56.94201728, 34.97229934],\n",
       "       [46.93338577, 72.51388207, 56.94201728, 41.3486654 ],\n",
       "       [11.94248964, 15.95645006, 20.47981599, 10.42943158],\n",
       "       [11.94248964, 25.32285147, 35.48501098, 20.22034083],\n",
       "       [20.47981599, 37.57898426, 46.62537777, 28.65594644],\n",
       "       [35.48501098, 53.53852888, 59.15996181, 37.76474822],\n",
       "       [46.62537777, 72.27236376, 72.51388207, 46.93338577],\n",
       "       [59.15996181, 89.79365522, 72.51388207, 56.94201728],\n",
       "       [15.95645006,  9.00390345, 25.32285147, 11.94248964],\n",
       "       [15.95645006, 19.88518493, 37.57898426, 20.47981599],\n",
       "       [25.32285147, 37.4032345 , 53.53852888, 35.48501098],\n",
       "       [37.57898426, 58.78101963, 72.27236376, 46.62537777],\n",
       "       [53.53852888, 86.50025633, 89.79365522, 59.15996181],\n",
       "       [72.27236376,  0.        , 89.79365522, 72.51388207],\n",
       "       [ 9.00390345,  9.00390345, 19.88518493, 15.95645006],\n",
       "       [ 9.00390345, 19.88518493, 37.4032345 , 25.32285147],\n",
       "       [19.88518493, 37.4032345 , 58.78101963, 37.57898426],\n",
       "       [37.4032345 , 58.78101963, 86.50025633, 53.53852888],\n",
       "       [58.78101963, 86.50025633,  0.        , 72.27236376],\n",
       "       [ 0.        ,  0.        ,  0.        ,  0.        ]])"
      ]
     },
     "execution_count": 65,
     "metadata": {},
     "output_type": "execute_result"
    }
   ],
   "source": [
    "a2.state_action_val"
   ]
  },
  {
   "attachments": {},
   "cell_type": "markdown",
   "metadata": {},
   "source": [
    "## Part 3"
   ]
  },
  {
   "cell_type": "code",
   "execution_count": 72,
   "metadata": {},
   "outputs": [],
   "source": [
    "LEFT, DOWN, RIGHT, UP = 0, 1, 2, 3\n",
    "student_num = 810198367\n",
    "map = make_map_part3(student_num)\n",
    "action_space = np.array([LEFT,DOWN,RIGHT,UP])\n",
    "\n",
    "e3 = FrozenLake(student_num,action_space,map,0.7)\n",
    "a3 = agent(e3,0.000001,0.9)"
   ]
  },
  {
   "cell_type": "code",
   "execution_count": 73,
   "metadata": {},
   "outputs": [],
   "source": [
    "a3.value_iteration()"
   ]
  },
  {
   "cell_type": "code",
   "execution_count": 74,
   "metadata": {},
   "outputs": [
    {
     "name": "stdout",
     "output_type": "stream",
     "text": [
      "['u', 'l', 'l', 'l', 'l', 'l', 'l', 'l', 'r', 'r', 'r', 'r', 'r', 'r', 'r']\n",
      "['u', 'u', 'u', 'u', 'l', 'd', 'd', 'l', 'd', 'r', 'u', 'u', 'u', 'u', 'u']\n",
      "['u', 'u', 'r', 'u', 'l', 'l', 'l', 'l', 'd', 'r', 'r', 'l', 'r', 'u', 'u']\n",
      "['r', 'u', 'u', 'u', 'u', 'u', 'l', 'd', 'd', 'd', 'u', 'd', 'r', 'u', 'l']\n",
      "['u', 'u', 'u', 'u', 'r', 'u', 'd', 'l', 'l', 'd', 'l', 'r', 'd', 'u', 'd']\n",
      "['u', 'u', 'u', 'r', 'r', 'r', 'd', 'd', 'd', 'd', 'd', 'r', 'd', 'l', 'd']\n",
      "['u', 'u', 'd', 'r', 'u', 'r', 'r', 'r', 'd', 'd', 'd', 'd', 'd', 'r', 'd']\n",
      "['r', 'r', 'r', 'd', 'u', 'r', 'r', 'r', 'r', 'd', 'd', 'd', 'd', 'd', 'd']\n",
      "['r', 'r', 'r', 'u', 'l', 'd', 'r', 'u', 'r', 'r', 'r', 'd', 'd', 'd', 'd']\n",
      "['d', 'd', 'd', 'd', 'd', 'r', 'r', 'd', 'r', 'r', 'r', 'd', 'd', 'r', 'd']\n",
      "['d', 'r', 'd', 'd', 'l', 'd', 'r', 'r', 'd', 'r', 'r', 'd', 'd', 'd', 'd']\n",
      "['d', 'd', 'd', 'd', 'd', 'd', 'r', 'r', 'r', 'r', 'r', 'd', 'd', 'd', 'd']\n",
      "['d', 'l', 'l', 'l', 'l', 'r', 'r', 'r', 'r', 'r', 'r', 'r', 'd', 'd', 'd']\n",
      "['d', 'l', 'l', 'u', 'd', 'r', 'd', 'r', 'r', 'r', 'r', 'r', 'r', 'd', 'd']\n",
      "['u', 'u', 'l', 'r', 'r', 'r', 'r', 'r', 'r', 'r', 'r', 'r', 'r', 'r', 'G']\n",
      "[[-1.26760199e+00 -3.11595919e+00 -5.37026781e+00 -6.69375169e+00\n",
      "  -9.11602238e+00 -1.30906111e+01 -1.80098979e+01 -2.63124155e+01\n",
      "  -2.73605129e+01 -2.39912193e+01 -2.10037735e+01 -1.58113874e+01\n",
      "  -1.11636569e+01 -4.92479085e+00 -4.24875052e+00]\n",
      " [-3.23314799e+00 -5.90830180e+00 -6.98796691e+00 -9.26343155e+00\n",
      "  -1.05786344e+01 -1.41976136e+01 -1.73860125e+01 -2.34090320e+01\n",
      "  -2.59432998e+01 -2.53932425e+01 -2.35217099e+01 -2.06717910e+01\n",
      "  -1.58921987e+01 -1.06561731e+01 -5.64829449e+00]\n",
      " [-8.82001387e+00 -9.48117520e+00 -1.13522828e+01 -1.06765804e+01\n",
      "  -1.22222781e+01 -1.29781146e+01 -1.50166110e+01 -1.74739334e+01\n",
      "  -2.54687334e+01 -2.44827295e+01 -2.44641598e+01 -2.45361260e+01\n",
      "  -1.93313331e+01 -1.77224333e+01 -1.26649921e+01]\n",
      " [-1.43922858e+01 -1.21431347e+01 -1.37249184e+01 -1.26935437e+01\n",
      "  -1.31798187e+01 -1.34739766e+01 -1.38404983e+01 -1.68929267e+01\n",
      "  -1.93898830e+01 -2.35413757e+01 -2.43630260e+01 -2.30016340e+01\n",
      "  -2.04298948e+01 -1.93622640e+01 -2.03124718e+01]\n",
      " [-1.73090044e+01 -1.65064358e+01 -1.65551969e+01 -1.86261881e+01\n",
      "  -1.52979763e+01 -1.37256492e+01 -1.35061243e+01 -1.45777251e+01\n",
      "  -1.65852100e+01 -1.76953988e+01 -2.23769592e+01 -2.11754521e+01\n",
      "  -1.94786403e+01 -2.03858622e+01 -2.17332901e+01]\n",
      " [-2.42514034e+01 -2.28620772e+01 -2.44524329e+01 -2.22008766e+01\n",
      "  -1.70851031e+01 -1.49515910e+01 -1.34476737e+01 -1.12360421e+01\n",
      "  -1.06060877e+01 -1.20482415e+01 -1.42853976e+01 -1.88265903e+01\n",
      "  -1.78299266e+01 -1.85400942e+01 -1.60829131e+01]\n",
      " [-3.31663522e+01 -3.14082211e+01 -2.76903715e+01 -2.52135108e+01\n",
      "  -2.18384572e+01 -1.57855679e+01 -1.30292470e+01 -9.81797013e+00\n",
      "  -7.65913379e+00 -5.75364547e+00 -6.74513222e+00 -1.03241530e+01\n",
      "  -1.40555334e+01 -1.41134680e+01 -9.62741476e+00]\n",
      " [-3.29465637e+01 -2.84651401e+01 -2.65884852e+01 -2.51153362e+01\n",
      "  -2.49816979e+01 -2.45725136e+01 -1.61176682e+01 -9.75317614e+00\n",
      "  -5.64655740e+00 -2.46946677e+00 -3.13424454e-01  7.75838063e-01\n",
      "  -4.09408299e+00 -3.81911690e+00  2.83498319e+00]\n",
      " [-3.11714970e+01 -2.73814779e+01 -2.55098769e+01 -2.54273297e+01\n",
      "  -2.50033075e+01 -2.64802733e+01 -2.18802923e+01 -1.47627757e+01\n",
      "  -4.92000422e+00 -4.75255614e-02  4.17663441e+00  7.63472637e+00\n",
      "   4.31539309e+00  6.35533621e+00  1.35240952e+01]\n",
      " [-2.87655304e+01 -2.41201745e+01 -2.06369202e+01 -2.03938375e+01\n",
      "  -2.46929359e+01 -2.20444242e+01 -1.90291161e+01 -1.57949009e+01\n",
      "  -5.86564373e+00  1.16556525e+00  9.06982915e+00  1.41112839e+01\n",
      "   1.04785839e+01  1.56868913e+01  2.65637209e+01]\n",
      " [-2.20892794e+01 -2.01951543e+01 -1.85466592e+01 -1.89283840e+01\n",
      "  -1.94558949e+01 -2.26510656e+01 -1.60401996e+01 -9.28894320e+00\n",
      "  -2.10604777e+00  6.33990175e+00  1.37834207e+01  2.07795247e+01\n",
      "   2.20216455e+01  2.88557464e+01  3.81982240e+01]\n",
      " [-1.31702103e+01 -1.34393468e+01 -1.48068304e+01 -1.56123610e+01\n",
      "  -1.77485493e+01 -1.65782126e+01 -1.27605219e+01 -2.70608115e+00\n",
      "   3.20788266e+00  9.43084575e+00  2.15147152e+01  2.88579373e+01\n",
      "   3.64925969e+01  4.23511406e+01  5.17532269e+01]\n",
      " [-7.86590065e+00 -1.09451549e+01 -1.21916177e+01 -1.44958475e+01\n",
      "  -1.53451427e+01 -1.42271754e+01 -9.24064886e+00 -4.89420836e+00\n",
      "   5.81722418e+00  1.82595343e+01  2.82325272e+01  3.81124704e+01\n",
      "   4.78704744e+01  5.91440530e+01  6.74742071e+01]\n",
      " [-3.81111107e+00 -7.83990705e+00 -1.23447148e+01 -1.48739846e+01\n",
      "  -1.48777020e+01 -1.16488563e+01 -7.44586370e+00  5.85494009e-01\n",
      "   8.00248527e+00  2.32239824e+01  3.37142167e+01  4.79977995e+01\n",
      "   6.01659405e+01  7.38031577e+01  8.91683410e+01]\n",
      " [-7.81946380e+00 -1.18122579e+01 -1.41948632e+01 -1.48302939e+01\n",
      "  -1.22051171e+01 -7.84885897e+00 -4.05267376e+00  2.90836738e+00\n",
      "   1.62356519e+01  2.92365331e+01  4.12232174e+01  5.67186028e+01\n",
      "   7.26384889e+01  9.03475146e+01  0.00000000e+00]]\n"
     ]
    }
   ],
   "source": [
    "plot(e3,a3)"
   ]
  },
  {
   "attachments": {},
   "cell_type": "markdown",
   "metadata": {},
   "source": [
    "### Higher Reward for the goal state"
   ]
  },
  {
   "cell_type": "code",
   "execution_count": 75,
   "metadata": {},
   "outputs": [],
   "source": [
    "LEFT, DOWN, RIGHT, UP = 0, 1, 2, 3\n",
    "student_num = 810198367\n",
    "map = make_map_part3(student_num)\n",
    "action_space = np.array([LEFT,DOWN,RIGHT,UP])\n",
    "\n",
    "e4 = FrozenLake(student_num,action_space,map,0.7,-1,10000)\n",
    "a4 = agent(e4,0.1,0.9)"
   ]
  },
  {
   "cell_type": "code",
   "execution_count": 78,
   "metadata": {},
   "outputs": [],
   "source": [
    "a4.value_iteration()"
   ]
  },
  {
   "cell_type": "code",
   "execution_count": 79,
   "metadata": {},
   "outputs": [
    {
     "name": "stdout",
     "output_type": "stream",
     "text": [
      "['r', 'r', 'r', 'r', 'r', 'd', 'r', 'r', 'r', 'r', 'd', 'd', 'd', 'd', 'd']\n",
      "['r', 'd', 'r', 'd', 'd', 'd', 'd', 'r', 'd', 'r', 'd', 'd', 'd', 'd', 'd']\n",
      "['r', 'r', 'r', 'r', 'r', 'd', 'd', 'd', 'd', 'd', 'd', 'd', 'd', 'd', 'd']\n",
      "['r', 'r', 'r', 'r', 'r', 'd', 'd', 'd', 'd', 'd', 'd', 'd', 'd', 'd', 'd']\n",
      "['r', 'r', 'r', 'r', 'r', 'r', 'd', 'd', 'd', 'd', 'd', 'd', 'd', 'd', 'd']\n",
      "['d', 'r', 'r', 'r', 'r', 'r', 'd', 'd', 'd', 'd', 'd', 'd', 'd', 'd', 'd']\n",
      "['d', 'd', 'd', 'r', 'r', 'r', 'r', 'r', 'd', 'd', 'd', 'd', 'd', 'd', 'd']\n",
      "['d', 'r', 'r', 'd', 'r', 'r', 'r', 'r', 'r', 'd', 'd', 'd', 'd', 'd', 'd']\n",
      "['d', 'r', 'r', 'r', 'd', 'd', 'd', 'r', 'r', 'r', 'd', 'd', 'd', 'd', 'd']\n",
      "['d', 'd', 'd', 'r', 'r', 'r', 'r', 'r', 'r', 'r', 'r', 'd', 'd', 'd', 'd']\n",
      "['r', 'r', 'r', 'r', 'r', 'r', 'r', 'r', 'd', 'r', 'r', 'd', 'd', 'd', 'd']\n",
      "['d', 'r', 'r', 'r', 'r', 'r', 'r', 'r', 'r', 'r', 'r', 'd', 'd', 'd', 'd']\n",
      "['r', 'r', 'r', 'r', 'r', 'r', 'r', 'r', 'r', 'r', 'r', 'r', 'd', 'd', 'd']\n",
      "['r', 'r', 'r', 'r', 'r', 'r', 'r', 'r', 'r', 'r', 'r', 'r', 'r', 'd', 'd']\n",
      "['r', 'r', 'r', 'r', 'r', 'r', 'r', 'r', 'r', 'r', 'r', 'r', 'r', 'r', 'G']\n",
      "[[ 106.91530022  124.30451294  146.31175456  172.32195909  202.59762323\n",
      "   238.61428753  281.24716627  337.70460356  400.43365704  472.2751436\n",
      "   553.27287112  644.44170771  740.95071147  834.55032332  886.39482178]\n",
      " [ 116.45605455  137.73490912  167.92468273  199.56846745  238.74765762\n",
      "   283.10612192  332.83072022  387.19183915  461.68054663  544.71259101\n",
      "   644.79472288  755.85019296  868.95492286  982.63344068 1042.64822094]\n",
      " [ 138.4960442   164.80868549  198.78525386  238.0555514   283.55509454\n",
      "   337.33426203  397.01852697  466.08367978  547.32946389  647.93346792\n",
      "   763.08309525  895.12091042 1037.69866063 1171.46538196 1250.50746997]\n",
      " [ 163.00474425  193.66603323  230.93203469  279.59846368  336.85689713\n",
      "   400.07995821  473.22766309  554.66475483  655.01554018  769.89016922\n",
      "   906.36721282 1065.69659691 1238.88010336 1397.31743114 1499.10211152]\n",
      " [ 188.82288598  224.18630465  274.08009826  331.73855392  398.68781879\n",
      "   473.72249154  560.06082858  657.65379169  777.07585191  916.35582982\n",
      "  1074.64515526 1262.67475142 1471.40680624 1664.45580848 1799.80706253]\n",
      " [ 222.75873455  262.96366652  322.14502254  391.18969456  470.24382831\n",
      "   558.87781127  661.72791657  782.87318473  923.82828854 1087.12892049\n",
      "  1277.75933214 1496.10952967 1744.6547296  1985.52541452 2157.28009364]\n",
      " [ 271.28494078  318.09008249  383.67433759  459.77562771  548.79974549\n",
      "   659.10126856  781.32318736  924.69613058 1091.72152842 1287.46790663\n",
      "  1513.95769998 1775.19128008 2067.84112502 2364.96899304 2583.15962321]\n",
      " [ 327.40085198  384.14192648  457.64875242  544.48366945  645.07672384\n",
      "   769.25707552  918.36369294 1089.61844861 1287.66376848 1518.94058641\n",
      "  1789.10328737 2103.85092197 2453.77773611 2819.02883946 3097.62247885]\n",
      " [ 392.79522152  457.66285394  543.79004809  644.51611557  766.76746818\n",
      "   907.53805116 1077.47045708 1278.31137511 1516.57474129 1789.75363405\n",
      "  2109.49388723 2484.02003338 2904.58216698 3353.96041925 3710.1105683 ]\n",
      " [ 466.99354794  543.63353176  646.04343724  766.25225967  907.39380254\n",
      "  1076.96102595 1274.32863588 1505.85249487 1784.63949511 2107.72037788\n",
      "  2487.22105033 2929.35891602 3430.95347272 3983.67416175 4445.73572212]\n",
      " [ 552.3373406   645.64813423  764.86472742  904.82787629 1074.28010203\n",
      "  1268.91290416 1504.71618875 1780.2617807  2103.37049506 2485.13981883\n",
      "  2930.19173434 3451.72652358 4053.70377783 4730.45441129 5326.5075663 ]\n",
      " [ 649.34039521  758.77798562  899.28658731 1065.58762211 1262.57632873\n",
      "  1497.69685069 1772.75645638 2100.45209702 2479.68334111 2924.76283092\n",
      "  3452.47145496 4065.75726635 4785.55653948 5606.92348833 6387.45503962]\n",
      " [ 756.71807644  882.49728451 1047.65272197 1242.84505622 1474.64657538\n",
      "  1748.1885542  2072.69901988 2453.13426313 2906.25282519 3438.86464604\n",
      "  4059.938538   4787.17951642 5638.47380933 6636.60365651 7668.63182254]\n",
      " [ 845.31796651  989.71092038 1177.80873466 1404.16900375 1672.19570032\n",
      "  1992.90451353 2371.08530451 2823.86613806 3356.32506101 3992.23784438\n",
      "  4735.41651084 5612.58075079 6637.6265467  7834.73904163 9223.88088487]\n",
      " [ 902.46882008 1059.22744521 1265.81288385 1514.0967055  1810.66645608\n",
      "  2165.75928654 2588.82858472 3097.87569562 3713.00661059 4448.54682416\n",
      "  5329.5593006  6392.42448149 7673.79664243 9225.06011165    0.        ]]\n"
     ]
    }
   ],
   "source": [
    "plot(e4,a4)"
   ]
  },
  {
   "cell_type": "code",
   "execution_count": null,
   "metadata": {},
   "outputs": [],
   "source": []
  }
 ],
 "metadata": {
  "kernelspec": {
   "display_name": "Python 3.9.12 ('base')",
   "language": "python",
   "name": "python3"
  },
  "language_info": {
   "codemirror_mode": {
    "name": "ipython",
    "version": 3
   },
   "file_extension": ".py",
   "mimetype": "text/x-python",
   "name": "python",
   "nbconvert_exporter": "python",
   "pygments_lexer": "ipython3",
   "version": "3.9.12"
  },
  "orig_nbformat": 4,
  "vscode": {
   "interpreter": {
    "hash": "765d4cba73481f4958d9acb2adbf263113aa55ae087c7b12ddb02de7db88e92d"
   }
  }
 },
 "nbformat": 4,
 "nbformat_minor": 2
}
